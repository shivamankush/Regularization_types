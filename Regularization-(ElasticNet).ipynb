{
 "cells": [
  {
   "cell_type": "code",
   "execution_count": 1,
   "id": "8d1d4c90-7df3-4161-b729-27831167e709",
   "metadata": {},
   "outputs": [],
   "source": [
    "from sklearn.datasets import load_diabetes"
   ]
  },
  {
   "cell_type": "code",
   "execution_count": 2,
   "id": "5c8ba11d-41d3-46b2-aef3-b4e71b11b35a",
   "metadata": {},
   "outputs": [],
   "source": [
    "from sklearn.model_selection import train_test_split"
   ]
  },
  {
   "cell_type": "code",
   "execution_count": 8,
   "id": "0e2c8c21-959a-42d6-adc8-9d636693d465",
   "metadata": {},
   "outputs": [],
   "source": [
    "from sklearn.linear_model import Ridge,ElasticNet,Lasso,LinearRegression\n",
    "from sklearn.metrics import r2_score"
   ]
  },
  {
   "cell_type": "code",
   "execution_count": 9,
   "id": "815f0d72-e11f-4464-8e19-850cccfb77a6",
   "metadata": {},
   "outputs": [],
   "source": [
    "X,y=load_diabetes(return_X_y=True)"
   ]
  },
  {
   "cell_type": "code",
   "execution_count": 10,
   "id": "5a9d613d-9711-41d9-adc1-fcfc4f0eb4c2",
   "metadata": {},
   "outputs": [],
   "source": [
    "X_train, X_test, y_train, y_test = train_test_split(X, y, test_size=0.2, random_state=2)"
   ]
  },
  {
   "cell_type": "markdown",
   "id": "89c8a38b-6dba-4acc-a672-f36f2e32dacc",
   "metadata": {},
   "source": [
    "### Linear_regression"
   ]
  },
  {
   "cell_type": "code",
   "execution_count": 11,
   "id": "5ba48983-2044-4f91-94bd-097587b85be6",
   "metadata": {},
   "outputs": [
    {
     "name": "stdout",
     "output_type": "stream",
     "text": [
      "0.4399338661568968\n"
     ]
    }
   ],
   "source": [
    "lr=LinearRegression()\n",
    "lr.fit(X_train,y_train)\n",
    "y_pred=lr.predict(X_test)\n",
    "print(r2_score(y_test,y_pred))"
   ]
  },
  {
   "cell_type": "markdown",
   "id": "df939097-1d89-45e2-abd9-803482b8f092",
   "metadata": {},
   "source": [
    "## Ridge_regression"
   ]
  },
  {
   "cell_type": "code",
   "execution_count": 14,
   "id": "41534fa9-bf78-485d-99ab-3c5040537736",
   "metadata": {},
   "outputs": [
    {
     "name": "stdout",
     "output_type": "stream",
     "text": [
      "0.45199494197195456\n"
     ]
    }
   ],
   "source": [
    "ridge=Ridge(alpha=0.1)\n",
    "ridge.fit(X_train,y_train)\n",
    "y_pred1=ridge.predict(X_test)\n",
    "print(r2_score(y_test,y_pred1))"
   ]
  },
  {
   "cell_type": "markdown",
   "id": "df0f2530-3148-4a77-9db0-9ad0f32a97b4",
   "metadata": {},
   "source": [
    "## Lasso_regression"
   ]
  },
  {
   "cell_type": "code",
   "execution_count": 15,
   "id": "c0e7182c-a0e6-4214-8154-fc313cee6bf4",
   "metadata": {},
   "outputs": [
    {
     "name": "stdout",
     "output_type": "stream",
     "text": [
      "0.441118559631106\n"
     ]
    }
   ],
   "source": [
    "las=Lasso(alpha=0.01)\n",
    "las.fit(X_train,y_train)\n",
    "y_pred2=las.predict(X_test)\n",
    "print(r2_score(y_test,y_pred2))"
   ]
  },
  {
   "cell_type": "markdown",
   "id": "e3781d2b-cec8-4299-bc11-a2bf18580a7d",
   "metadata": {},
   "source": [
    "## ElasticNet_regression"
   ]
  },
  {
   "cell_type": "code",
   "execution_count": 18,
   "id": "9d9abc5c-65ad-4080-8cc5-e620575dfe4a",
   "metadata": {},
   "outputs": [
    {
     "name": "stdout",
     "output_type": "stream",
     "text": [
      "0.4531474541554822\n"
     ]
    }
   ],
   "source": [
    "Enr=ElasticNet(alpha=0.005,l1_ratio=0.9)\n",
    "Enr.fit(X_train,y_train)\n",
    "y_pred3=Enr.predict(X_test)\n",
    "print(r2_score(y_test,y_pred3))"
   ]
  },
  {
   "cell_type": "markdown",
   "id": "2b0678c3-6505-4782-9704-64d5e57c032d",
   "metadata": {},
   "source": [
    "## THANKS"
   ]
  },
  {
   "cell_type": "code",
   "execution_count": null,
   "id": "e660902c-d07c-406a-a2e1-5c02a0af2950",
   "metadata": {},
   "outputs": [],
   "source": []
  }
 ],
 "metadata": {
  "kernelspec": {
   "display_name": "Python 3 (ipykernel)",
   "language": "python",
   "name": "python3"
  },
  "language_info": {
   "codemirror_mode": {
    "name": "ipython",
    "version": 3
   },
   "file_extension": ".py",
   "mimetype": "text/x-python",
   "name": "python",
   "nbconvert_exporter": "python",
   "pygments_lexer": "ipython3",
   "version": "3.12.4"
  }
 },
 "nbformat": 4,
 "nbformat_minor": 5
}
